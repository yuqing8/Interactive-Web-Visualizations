{
 "cells": [
  {
   "cell_type": "code",
   "execution_count": 1,
   "id": "2d729c3c",
   "metadata": {},
   "outputs": [],
   "source": [
    "import pandas as pd"
   ]
  },
  {
   "cell_type": "code",
   "execution_count": 3,
   "id": "ce3d92b7",
   "metadata": {},
   "outputs": [],
   "source": [
    "df=pd.read_json(\"samples.json\")"
   ]
  },
  {
   "cell_type": "code",
   "execution_count": 9,
   "id": "1ce73ea3",
   "metadata": {},
   "outputs": [
    {
     "data": {
      "text/html": [
       "<div>\n",
       "<style scoped>\n",
       "    .dataframe tbody tr th:only-of-type {\n",
       "        vertical-align: middle;\n",
       "    }\n",
       "\n",
       "    .dataframe tbody tr th {\n",
       "        vertical-align: top;\n",
       "    }\n",
       "\n",
       "    .dataframe thead th {\n",
       "        text-align: right;\n",
       "    }\n",
       "</style>\n",
       "<table border=\"1\" class=\"dataframe\">\n",
       "  <thead>\n",
       "    <tr style=\"text-align: right;\">\n",
       "      <th></th>\n",
       "      <th>names</th>\n",
       "      <th>metadata</th>\n",
       "      <th>samples</th>\n",
       "    </tr>\n",
       "  </thead>\n",
       "  <tbody>\n",
       "    <tr>\n",
       "      <th>0</th>\n",
       "      <td>940</td>\n",
       "      <td>{'id': 940, 'ethnicity': 'Caucasian', 'gender'...</td>\n",
       "      <td>{'id': '940', 'otu_ids': [1167, 2859, 482, 226...</td>\n",
       "    </tr>\n",
       "    <tr>\n",
       "      <th>1</th>\n",
       "      <td>941</td>\n",
       "      <td>{'id': 941, 'ethnicity': 'Caucasian/Midleaster...</td>\n",
       "      <td>{'id': '941', 'otu_ids': [2722, 944, 2419, 253...</td>\n",
       "    </tr>\n",
       "    <tr>\n",
       "      <th>2</th>\n",
       "      <td>943</td>\n",
       "      <td>{'id': 943, 'ethnicity': 'Caucasian', 'gender'...</td>\n",
       "      <td>{'id': '943', 'otu_ids': [1795], 'sample_value...</td>\n",
       "    </tr>\n",
       "    <tr>\n",
       "      <th>3</th>\n",
       "      <td>944</td>\n",
       "      <td>{'id': 944, 'ethnicity': 'European', 'gender':...</td>\n",
       "      <td>{'id': '944', 'otu_ids': [922, 3555, 943, 1013...</td>\n",
       "    </tr>\n",
       "    <tr>\n",
       "      <th>4</th>\n",
       "      <td>945</td>\n",
       "      <td>{'id': 945, 'ethnicity': 'Caucasian', 'gender'...</td>\n",
       "      <td>{'id': '945', 'otu_ids': [944, 1795, 922, 2419...</td>\n",
       "    </tr>\n",
       "    <tr>\n",
       "      <th>...</th>\n",
       "      <td>...</td>\n",
       "      <td>...</td>\n",
       "      <td>...</td>\n",
       "    </tr>\n",
       "    <tr>\n",
       "      <th>148</th>\n",
       "      <td>1574</td>\n",
       "      <td>{'id': 1574, 'ethnicity': 'Caucasian', 'gender...</td>\n",
       "      <td>{'id': '1574', 'otu_ids': [482, 909, 2419, 944...</td>\n",
       "    </tr>\n",
       "    <tr>\n",
       "      <th>149</th>\n",
       "      <td>1576</td>\n",
       "      <td>{'id': 1576, 'ethnicity': 'Caucasian', 'gender...</td>\n",
       "      <td>{'id': '1576', 'otu_ids': [1929, 1770, 1926, 1...</td>\n",
       "    </tr>\n",
       "    <tr>\n",
       "      <th>150</th>\n",
       "      <td>1577</td>\n",
       "      <td>{'id': 1577, 'ethnicity': 'Caucasian', 'gender...</td>\n",
       "      <td>{'id': '1577', 'otu_ids': [922, 1795, 151, 318...</td>\n",
       "    </tr>\n",
       "    <tr>\n",
       "      <th>151</th>\n",
       "      <td>1581</td>\n",
       "      <td>{'id': 1581, 'ethnicity': 'Asian(American)', '...</td>\n",
       "      <td>{'id': '1581', 'otu_ids': [1795, 3312, 1399, 3...</td>\n",
       "    </tr>\n",
       "    <tr>\n",
       "      <th>152</th>\n",
       "      <td>1601</td>\n",
       "      <td>{'id': 1601, 'ethnicity': 'Caucasian', 'gender...</td>\n",
       "      <td>{'id': '1601', 'otu_ids': [1929, 3030, 1795, 8...</td>\n",
       "    </tr>\n",
       "  </tbody>\n",
       "</table>\n",
       "<p>153 rows × 3 columns</p>\n",
       "</div>"
      ],
      "text/plain": [
       "     names                                           metadata  \\\n",
       "0      940  {'id': 940, 'ethnicity': 'Caucasian', 'gender'...   \n",
       "1      941  {'id': 941, 'ethnicity': 'Caucasian/Midleaster...   \n",
       "2      943  {'id': 943, 'ethnicity': 'Caucasian', 'gender'...   \n",
       "3      944  {'id': 944, 'ethnicity': 'European', 'gender':...   \n",
       "4      945  {'id': 945, 'ethnicity': 'Caucasian', 'gender'...   \n",
       "..     ...                                                ...   \n",
       "148   1574  {'id': 1574, 'ethnicity': 'Caucasian', 'gender...   \n",
       "149   1576  {'id': 1576, 'ethnicity': 'Caucasian', 'gender...   \n",
       "150   1577  {'id': 1577, 'ethnicity': 'Caucasian', 'gender...   \n",
       "151   1581  {'id': 1581, 'ethnicity': 'Asian(American)', '...   \n",
       "152   1601  {'id': 1601, 'ethnicity': 'Caucasian', 'gender...   \n",
       "\n",
       "                                               samples  \n",
       "0    {'id': '940', 'otu_ids': [1167, 2859, 482, 226...  \n",
       "1    {'id': '941', 'otu_ids': [2722, 944, 2419, 253...  \n",
       "2    {'id': '943', 'otu_ids': [1795], 'sample_value...  \n",
       "3    {'id': '944', 'otu_ids': [922, 3555, 943, 1013...  \n",
       "4    {'id': '945', 'otu_ids': [944, 1795, 922, 2419...  \n",
       "..                                                 ...  \n",
       "148  {'id': '1574', 'otu_ids': [482, 909, 2419, 944...  \n",
       "149  {'id': '1576', 'otu_ids': [1929, 1770, 1926, 1...  \n",
       "150  {'id': '1577', 'otu_ids': [922, 1795, 151, 318...  \n",
       "151  {'id': '1581', 'otu_ids': [1795, 3312, 1399, 3...  \n",
       "152  {'id': '1601', 'otu_ids': [1929, 3030, 1795, 8...  \n",
       "\n",
       "[153 rows x 3 columns]"
      ]
     },
     "execution_count": 9,
     "metadata": {},
     "output_type": "execute_result"
    }
   ],
   "source": [
    "df"
   ]
  },
  {
   "cell_type": "code",
   "execution_count": 13,
   "id": "772e23e6",
   "metadata": {},
   "outputs": [
    {
     "name": "stdout",
     "output_type": "stream",
     "text": [
      "('id', '940')\n",
      "('otu_ids', [1167, 2859, 482, 2264, 41, 1189, 352, 189, 2318, 1977, 3450, 874, 1959, 2191, 1950, 2077, 2275, 944, 2184, 2244, 2024, 2419, 2811, 165, 2782, 2247, 2011, 2396, 830, 2964, 1795, 2722, 307, 2178, 2908, 1193, 2167, 1208, 2039, 1274, 2739, 2737, 1314, 1962, 2186, 2335, 2936, 907, 833, 2483, 2475, 2491, 2291, 159, 2571, 2350, 2342, 2546, 725, 170, 1505, 513, 259, 1169, 258, 1232, 1497, 1498, 1503, 412, 2235, 1960, 1968, 121, 2065, 340, 2110, 2188, 357, 342])\n",
      "('sample_values', [163, 126, 113, 78, 71, 51, 50, 47, 40, 40, 37, 36, 30, 28, 25, 23, 22, 19, 19, 14, 13, 13, 13, 12, 12, 11, 11, 11, 10, 10, 10, 8, 7, 7, 7, 6, 5, 5, 5, 4, 4, 4, 3, 3, 3, 3, 3, 3, 3, 2, 2, 2, 2, 2, 2, 2, 2, 2, 2, 2, 2, 2, 2, 2, 2, 2, 2, 2, 2, 2, 2, 2, 2, 2, 2, 2, 2, 2, 2, 2])\n",
      "('otu_labels', ['Bacteria;Bacteroidetes;Bacteroidia;Bacteroidales;Porphyromonadaceae;Porphyromonas', 'Bacteria;Firmicutes;Clostridia;Clostridiales;IncertaeSedisXI;Peptoniphilus', 'Bacteria', 'Bacteria;Firmicutes;Clostridia;Clostridiales;IncertaeSedisXI', 'Bacteria', 'Bacteria;Bacteroidetes;Bacteroidia;Bacteroidales;Porphyromonadaceae;Porphyromonas', 'Bacteria', 'Bacteria', 'Bacteria;Firmicutes;Clostridia;Clostridiales;IncertaeSedisXI;Anaerococcus', 'Bacteria;Firmicutes;Clostridia;Clostridiales', 'Bacteria;Proteobacteria;Epsilonproteobacteria;Campylobacterales;Campylobacteraceae;Campylobacter', 'Bacteria;Actinobacteria;Actinobacteria;Actinomycetales;Actinomycetaceae;Varibaculum', 'Bacteria;Firmicutes;Clostridia', 'Bacteria;Firmicutes;Clostridia;Clostridiales;IncertaeSedisXI', 'Bacteria;Firmicutes;Clostridia', 'Bacteria;Firmicutes;Clostridia;Clostridiales', 'Bacteria;Firmicutes;Clostridia;Clostridiales;IncertaeSedisXI', 'Bacteria;Actinobacteria;Actinobacteria;Actinomycetales;Corynebacteriaceae;Corynebacterium', 'Bacteria;Firmicutes;Clostridia;Clostridiales;IncertaeSedisXI', 'Bacteria;Firmicutes;Clostridia;Clostridiales;IncertaeSedisXI', 'Bacteria;Firmicutes;Clostridia;Clostridiales', 'Bacteria;Firmicutes;Clostridia;Clostridiales;IncertaeSedisXI;Anaerococcus', 'Bacteria;Firmicutes;Clostridia;Clostridiales;IncertaeSedisXI;Peptoniphilus', 'Bacteria', 'Bacteria;Firmicutes;Clostridia;Clostridiales;IncertaeSedisXI;Peptoniphilus', 'Bacteria;Firmicutes;Clostridia;Clostridiales;IncertaeSedisXI', 'Bacteria;Firmicutes;Clostridia;Clostridiales', 'Bacteria;Firmicutes;Clostridia;Clostridiales;IncertaeSedisXI;Anaerococcus', 'Bacteria;Actinobacteria;Actinobacteria;Actinomycetales', 'Bacteria;Firmicutes;Clostridia;Clostridiales;Veillonellaceae', 'Bacteria;Firmicutes;Bacilli;Bacillales;Staphylococcaceae;Staphylococcus', 'Bacteria;Firmicutes;Clostridia;Clostridiales;IncertaeSedisXI;Finegoldia', 'Bacteria', 'Bacteria;Firmicutes;Clostridia;Clostridiales', 'Bacteria;Firmicutes;Clostridia;Clostridiales;Peptococcaceae;Peptococcus', 'Bacteria;Bacteroidetes;Bacteroidia;Bacteroidales;Porphyromonadaceae;Porphyromonas', 'Bacteria;Firmicutes;Clostridia;Clostridiales', 'Bacteria;Bacteroidetes;Bacteroidia;Bacteroidales;Porphyromonadaceae;Porphyromonas', 'Bacteria;Firmicutes;Clostridia;Clostridiales', 'Bacteria;Bacteroidetes;Bacteroidia;Bacteroidales;Prevotellaceae', 'Bacteria;Firmicutes;Clostridia;Clostridiales;IncertaeSedisXI;Gallicola', 'Bacteria;Firmicutes;Clostridia;Clostridiales;IncertaeSedisXI;Gallicola', 'Bacteria;Bacteroidetes;Bacteroidia;Bacteroidales;Prevotellaceae;Prevotella', 'Bacteria;Firmicutes;Clostridia', 'Bacteria;Firmicutes;Clostridia;Clostridiales;IncertaeSedisXI', 'Bacteria;Firmicutes;Clostridia;Clostridiales;IncertaeSedisXI;Anaerococcus', 'Bacteria;Firmicutes;Clostridia;Clostridiales;Ruminococcaceae', 'Bacteria;Actinobacteria;Actinobacteria;Actinomycetales;Corynebacteriaceae', 'Bacteria;Actinobacteria;Actinobacteria;Actinomycetales;Actinomycetaceae', 'Bacteria;Firmicutes;Clostridia;Clostridiales;IncertaeSedisXI;Anaerococcus', 'Bacteria;Firmicutes;Clostridia;Clostridiales;IncertaeSedisXI;Anaerococcus', 'Bacteria;Firmicutes;Clostridia;Clostridiales;IncertaeSedisXI;Anaerococcus', 'Bacteria;Firmicutes;Clostridia;Clostridiales;IncertaeSedisXI', 'Bacteria', 'Bacteria;Firmicutes;Clostridia;Clostridiales;IncertaeSedisXI;Anaerococcus', 'Bacteria;Firmicutes;Clostridia;Clostridiales;IncertaeSedisXI;Anaerococcus', 'Bacteria;Firmicutes;Clostridia;Clostridiales;IncertaeSedisXI;Anaerococcus', 'Bacteria;Firmicutes;Clostridia;Clostridiales;IncertaeSedisXI;Anaerococcus', 'Bacteria;Actinobacteria;Actinobacteria;Actinomycetales', 'Bacteria', 'Bacteria;Firmicutes', 'Bacteria', 'Bacteria', 'Bacteria;Bacteroidetes;Bacteroidia;Bacteroidales;Porphyromonadaceae;Porphyromonas', 'Bacteria', 'Bacteria;Bacteroidetes;Bacteroidia;Bacteroidales;Porphyromonadaceae;Porphyromonas', 'Bacteria;Firmicutes', 'Bacteria;Firmicutes', 'Bacteria;Firmicutes', 'Bacteria', 'Bacteria;Firmicutes;Clostridia;Clostridiales;IncertaeSedisXI', 'Bacteria;Firmicutes;Clostridia', 'Bacteria;Firmicutes;Clostridia', 'Bacteria', 'Bacteria;Firmicutes;Clostridia;Clostridiales', 'Bacteria', 'Bacteria;Firmicutes;Clostridia;Clostridiales', 'Bacteria;Firmicutes;Clostridia;Clostridiales;IncertaeSedisXI', 'Bacteria', 'Bacteria'])\n"
     ]
    }
   ],
   "source": [
    "test=df['samples'][0]\n",
    "for key in test.items():\n",
    "    print(key)"
   ]
  },
  {
   "cell_type": "code",
   "execution_count": 16,
   "id": "b9261452",
   "metadata": {},
   "outputs": [
    {
     "data": {
      "text/plain": [
       "80"
      ]
     },
     "execution_count": 16,
     "metadata": {},
     "output_type": "execute_result"
    }
   ],
   "source": [
    "len(df['samples'][0]['otu_ids'])"
   ]
  },
  {
   "cell_type": "code",
   "execution_count": 17,
   "id": "fbbdf7eb",
   "metadata": {},
   "outputs": [
    {
     "data": {
      "text/plain": [
       "80"
      ]
     },
     "execution_count": 17,
     "metadata": {},
     "output_type": "execute_result"
    }
   ],
   "source": [
    "len(df['samples'][0]['sample_values'])"
   ]
  },
  {
   "cell_type": "code",
   "execution_count": 15,
   "id": "562604d4",
   "metadata": {},
   "outputs": [
    {
     "data": {
      "text/plain": [
       "80"
      ]
     },
     "execution_count": 15,
     "metadata": {},
     "output_type": "execute_result"
    }
   ],
   "source": [
    "len(df['samples'][0]['otu_labels'])"
   ]
  },
  {
   "cell_type": "code",
   "execution_count": null,
   "id": "111fb408",
   "metadata": {},
   "outputs": [],
   "source": []
  },
  {
   "cell_type": "code",
   "execution_count": null,
   "id": "3d300276",
   "metadata": {},
   "outputs": [],
   "source": []
  }
 ],
 "metadata": {
  "kernelspec": {
   "display_name": "Python 3",
   "language": "python",
   "name": "python3"
  },
  "language_info": {
   "codemirror_mode": {
    "name": "ipython",
    "version": 3
   },
   "file_extension": ".py",
   "mimetype": "text/x-python",
   "name": "python",
   "nbconvert_exporter": "python",
   "pygments_lexer": "ipython3",
   "version": "3.8.8"
  }
 },
 "nbformat": 4,
 "nbformat_minor": 5
}
